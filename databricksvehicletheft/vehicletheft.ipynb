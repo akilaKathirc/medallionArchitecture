{
 "cells": [
  {
   "cell_type": "code",
   "execution_count": 0,
   "metadata": {
    "application/vnd.databricks.v1+cell": {
     "cellMetadata": {
      "byteLimit": 2048000,
      "rowLimit": 10000
     },
     "inputWidgets": {},
     "nuid": "ef1f7afa-2f72-4329-a2ad-58b976233667",
     "showTitle": false,
     "tableResultSettingsMap": {},
     "title": ""
    }
   },
   "outputs": [],
   "source": [
    "bronzepath = \"abfss://bronze@vehicletheft1.dfs.core.windows.net/\"\n",
    "# silverpath = \"abfss://silver@vehicletheft1.dfs.core.windows.net/\"\n",
    "# goldpath = \"abfss://gold@vehicletheft1.dfs.core.windows.net/\"\n"
   ]
  },
  {
   "cell_type": "code",
   "execution_count": 0,
   "metadata": {
    "application/vnd.databricks.v1+cell": {
     "cellMetadata": {
      "byteLimit": 2048000,
      "rowLimit": 10000
     },
     "inputWidgets": {},
     "nuid": "f9811bdc-74dc-418e-9eab-8872b464c81f",
     "showTitle": false,
     "tableResultSettingsMap": {},
     "title": ""
    }
   },
   "outputs": [],
   "source": [
    "df_location = spark.read.format(\"csv\") \\\n",
    "    .option(\"header\", \"true\") \\\n",
    "    .option(\"inferSchema\", \"true\") \\\n",
    "    .load(bronzepath + \"/bronze/locations.csv\")  # Verify that 'bronzepath' is correctly defined and the file exists at this location.\n",
    "\n",
    "display(df_location)"
   ]
  },
  {
   "cell_type": "code",
   "execution_count": 0,
   "metadata": {
    "application/vnd.databricks.v1+cell": {
     "cellMetadata": {
      "byteLimit": 2048000,
      "rowLimit": 10000
     },
     "inputWidgets": {},
     "nuid": "4c710f3e-3556-4702-991b-ed91e8d24a2b",
     "showTitle": false,
     "tableResultSettingsMap": {},
     "title": ""
    }
   },
   "outputs": [],
   "source": [
    "df_make_details = spark.read.format(\"csv\") \\\n",
    "    .option(\"header\", \"true\") \\\n",
    "    .option(\"inferSchema\", \"true\") \\\n",
    "    .load(bronzepath + \"/bronze/make_details.csv\")  # Verify that 'bronzepath' is correctly defined and the file exists at this location.\n",
    "\n",
    "display(df_make_details)"
   ]
  },
  {
   "cell_type": "code",
   "execution_count": 0,
   "metadata": {
    "application/vnd.databricks.v1+cell": {
     "cellMetadata": {
      "byteLimit": 2048000,
      "rowLimit": 10000
     },
     "inputWidgets": {},
     "nuid": "72e57598-560b-476c-b9e3-65969d1fbbad",
     "showTitle": false,
     "tableResultSettingsMap": {},
     "title": ""
    }
   },
   "outputs": [],
   "source": [
    "df_stolen_vehicles = spark.read.format(\"csv\") \\\n",
    "    .option(\"header\", \"true\") \\\n",
    "    .option(\"inferSchema\", \"true\") \\\n",
    "    .load(bronzepath + \"/bronze/stolen_vehicles.csv\")  # Verify that 'bronzepath' is correctly defined and the file exists at this location.\n",
    "\n",
    "display(df_stolen_vehicles)"
   ]
  },
  {
   "cell_type": "code",
   "execution_count": 0,
   "metadata": {
    "application/vnd.databricks.v1+cell": {
     "cellMetadata": {
      "byteLimit": 2048000,
      "rowLimit": 10000
     },
     "inputWidgets": {},
     "nuid": "031cc9f8-7a56-485a-af34-0014fa5a0f29",
     "showTitle": false,
     "tableResultSettingsMap": {},
     "title": ""
    }
   },
   "outputs": [],
   "source": [
    "df_stolen_vehicles_db_data_dictionary = spark.read.format(\"csv\") \\\n",
    "    .option(\"header\", \"true\") \\\n",
    "    .option(\"inferSchema\", \"true\") \\\n",
    "    .load(bronzepath + \"/bronze/stolen_vehicles_db_data_dictionary.csv\")  # Verify that 'bronzepath' is correctly defined and the file exists at this location.\n",
    "\n",
    "display(df_stolen_vehicles_db_data_dictionary)"
   ]
  },
  {
   "cell_type": "code",
   "execution_count": 0,
   "metadata": {
    "application/vnd.databricks.v1+cell": {
     "cellMetadata": {
      "byteLimit": 2048000,
      "rowLimit": 10000
     },
     "inputWidgets": {},
     "nuid": "0a9aab32-82e2-4de5-959f-a9d66e07f082",
     "showTitle": false,
     "tableResultSettingsMap": {},
     "title": ""
    }
   },
   "outputs": [],
   "source": [
    "# dbutils.fs.mount(\n",
    "#     source = \"wasbs://bronze@vehicletheft1.blob.core.windows.net/\",\n",
    "#     mount_point = \"/mnt/bronze\",\n",
    "#     extra_configs = {\n",
    "#         \"fs.azure.account.key.vehicletheft1.blob.core.windows.net\": dbutils.secrets.get('dbscopr', 'vehicltheft')\n",
    "#     }\n",
    "# )\n"
   ]
  },
  {
   "cell_type": "code",
   "execution_count": 0,
   "metadata": {
    "application/vnd.databricks.v1+cell": {
     "cellMetadata": {
      "byteLimit": 2048000,
      "rowLimit": 10000
     },
     "inputWidgets": {},
     "nuid": "c44da03a-ad27-4ef7-aa8e-985a2ac95fac",
     "showTitle": false,
     "tableResultSettingsMap": {},
     "title": ""
    }
   },
   "outputs": [],
   "source": [
    "df_location.columns"
   ]
  },
  {
   "cell_type": "code",
   "execution_count": 0,
   "metadata": {
    "application/vnd.databricks.v1+cell": {
     "cellMetadata": {
      "byteLimit": 2048000,
      "rowLimit": 10000
     },
     "inputWidgets": {},
     "nuid": "554a4b53-2f64-4124-b9eb-43c8bab8f8e8",
     "showTitle": false,
     "tableResultSettingsMap": {},
     "title": ""
    }
   },
   "outputs": [],
   "source": [
    "from pyspark.sql.functions import *\n",
    "\n",
    "\n",
    "df_location= df_location.withColumn(\"population\", regexp_replace(col(\"population\"), ',', '').cast(\"int\"))\n",
    "display(df_location)"
   ]
  },
  {
   "cell_type": "code",
   "execution_count": 0,
   "metadata": {
    "application/vnd.databricks.v1+cell": {
     "cellMetadata": {
      "byteLimit": 2048000,
      "rowLimit": 10000
     },
     "inputWidgets": {},
     "nuid": "ecdbe7fe-edf0-456f-bcfd-6eef372af3fe",
     "showTitle": false,
     "tableResultSettingsMap": {},
     "title": ""
    }
   },
   "outputs": [],
   "source": [
    "df_location = df_location.toDF(*[Column.lower().replace(' ', '_')   for Column in df_location.columns])\n",
    "display(df_location)"
   ]
  },
  {
   "cell_type": "code",
   "execution_count": 0,
   "metadata": {
    "application/vnd.databricks.v1+cell": {
     "cellMetadata": {
      "byteLimit": 2048000,
      "rowLimit": 10000
     },
     "inputWidgets": {},
     "nuid": "ce1a7bb8-868c-46d3-bf8a-d2e2cd072dbe",
     "showTitle": false,
     "tableResultSettingsMap": {},
     "title": ""
    }
   },
   "outputs": [],
   "source": [
    "df_stolen_vehicles = df_stolen_vehicles.toDF(*[Columns.lower().replace('_', ' ')   for Columns in df_stolen_vehicles.columns])\n",
    "display(df_stolen_vehicles)\n",
    "\n"
   ]
  },
  {
   "cell_type": "code",
   "execution_count": 0,
   "metadata": {
    "application/vnd.databricks.v1+cell": {
     "cellMetadata": {
      "byteLimit": 2048000,
      "rowLimit": 10000
     },
     "inputWidgets": {},
     "nuid": "54b9111d-805a-4fb9-86c1-b0228d6409ed",
     "showTitle": false,
     "tableResultSettingsMap": {},
     "title": ""
    }
   },
   "outputs": [],
   "source": [
    "df_stolen_vehicles = df_stolen_vehicles.toDF(*[Columns.lower().replace(' ', '_')   for Columns in df_stolen_vehicles.columns])\n",
    "\n",
    "display(df_stolen_vehicles)"
   ]
  },
  {
   "cell_type": "code",
   "execution_count": 0,
   "metadata": {
    "application/vnd.databricks.v1+cell": {
     "cellMetadata": {
      "byteLimit": 2048000,
      "rowLimit": 10000
     },
     "inputWidgets": {},
     "nuid": "132e8a25-f017-42ae-801c-05dda237ae32",
     "showTitle": false,
     "tableResultSettingsMap": {},
     "title": ""
    }
   },
   "outputs": [],
   "source": [
    "display(df_stolen_vehicles_db_data_dictionary)\n",
    "display(df_location)\n",
    "display(df_make_details)\n",
    "display(df_stolen_vehicles)"
   ]
  },
  {
   "cell_type": "code",
   "execution_count": 0,
   "metadata": {
    "application/vnd.databricks.v1+cell": {
     "cellMetadata": {
      "byteLimit": 2048000,
      "rowLimit": 10000
     },
     "inputWidgets": {},
     "nuid": "52353018-1b9d-4b4c-a48e-69693de2611b",
     "showTitle": false,
     "tableResultSettingsMap": {},
     "title": ""
    }
   },
   "outputs": [],
   "source": [
    "df_stolen_vehicles = df_stolen_vehicles.withColumnRenamed(\"vehicle_id\", \"vvehicle_id\")\n",
    "df_stolen_vehicles.show(2)"
   ]
  },
  {
   "cell_type": "code",
   "execution_count": 0,
   "metadata": {
    "application/vnd.databricks.v1+cell": {
     "cellMetadata": {
      "byteLimit": 2048000,
      "rowLimit": 10000
     },
     "inputWidgets": {},
     "nuid": "d095743e-ea19-43cd-a1de-028e44d76a35",
     "showTitle": false,
     "tableResultSettingsMap": {},
     "title": ""
    }
   },
   "outputs": [],
   "source": [
    "df_location.write.format(\"parquet\").option(\"header\", \"true\").save(bronzepath + \"/silver/location\")"
   ]
  },
  {
   "cell_type": "code",
   "execution_count": 0,
   "metadata": {
    "application/vnd.databricks.v1+cell": {
     "cellMetadata": {
      "byteLimit": 2048000,
      "rowLimit": 10000
     },
     "inputWidgets": {},
     "nuid": "165fd18a-9d04-4de7-8baa-6d2d0e6d4f27",
     "showTitle": false,
     "tableResultSettingsMap": {},
     "title": ""
    }
   },
   "outputs": [],
   "source": [
    "df_make_details.write.format(\"parquet\").option(\"header\", \"true\").save(bronzepath+\"/silver/makeDetails\")"
   ]
  },
  {
   "cell_type": "code",
   "execution_count": 0,
   "metadata": {
    "application/vnd.databricks.v1+cell": {
     "cellMetadata": {
      "byteLimit": 2048000,
      "rowLimit": 10000
     },
     "inputWidgets": {},
     "nuid": "185bbcc2-c4aa-4ee2-81ce-1deaecae60ba",
     "showTitle": false,
     "tableResultSettingsMap": {},
     "title": ""
    }
   },
   "outputs": [],
   "source": [
    "df_stolen_vehicles.write.format(\"parquet\").option(\"header\",\"true\").save(bronzepath+\"/silver/stolenVehicles\")"
   ]
  },
  {
   "cell_type": "code",
   "execution_count": 0,
   "metadata": {
    "application/vnd.databricks.v1+cell": {
     "cellMetadata": {
      "byteLimit": 2048000,
      "rowLimit": 10000
     },
     "inputWidgets": {},
     "nuid": "4e1a562d-54b8-43c0-a175-73687fab6bb6",
     "showTitle": false,
     "tableResultSettingsMap": {},
     "title": ""
    }
   },
   "outputs": [],
   "source": [
    "df_stolen_vehicles_db_data_dictionary.write.format(\"parquet\").option(\"header\", \"true\").save(bronzepath+\"/silver/stolenVehiclesDictionary\")"
   ]
  },
  {
   "cell_type": "code",
   "execution_count": 0,
   "metadata": {
    "application/vnd.databricks.v1+cell": {
     "cellMetadata": {
      "byteLimit": 2048000,
      "rowLimit": 10000
     },
     "inputWidgets": {},
     "nuid": "a1b42f0b-e2df-41fe-8fd3-238cc8c02022",
     "showTitle": false,
     "tableResultSettingsMap": {},
     "title": ""
    }
   },
   "outputs": [],
   "source": [
    "df_location.show(1)"
   ]
  },
  {
   "cell_type": "code",
   "execution_count": 0,
   "metadata": {
    "application/vnd.databricks.v1+cell": {
     "cellMetadata": {
      "byteLimit": 2048000,
      "rowLimit": 10000
     },
     "inputWidgets": {},
     "nuid": "76d2d15d-c59d-42f0-8081-fe29107bfc0b",
     "showTitle": false,
     "tableResultSettingsMap": {},
     "title": ""
    }
   },
   "outputs": [],
   "source": [
    "null_count_location = df_location.select([sum(when(col(column).isNull(), 1).otherwise(0)).alias(column) for column in df_location.columns])\n",
    "\n",
    "null_count_stolenvehicle = df_stolen_vehicles.select([sum(when(col(column).isNull(), 1).otherwise(0)).alias(column) for column in df_stolen_vehicles.columns]) \n",
    "\n",
    "# null_count_data_dictornary = df_stolen_vehicles_db_data_dictionary.select([sum(when(col(column).isnull(), 0).otherwise(0)).alias(\"dictonaryCount\") for column in df_stolen_vehicles_db_data_dictionary.columns])\n",
    "\n",
    "null_count_make_details  =df_make_details.select([sum(when(col(column).isNull(), 1).otherwise(0)).alias(column)   for column in df_make_details.columns])\n",
    "\n",
    "null_count_location.show()\n",
    "null_count_stolenvehicle.show()\n",
    "# null_count_data_dictornary.show()\n",
    "null_count_make_details.show()\n"
   ]
  },
  {
   "cell_type": "code",
   "execution_count": 0,
   "metadata": {
    "application/vnd.databricks.v1+cell": {
     "cellMetadata": {
      "byteLimit": 2048000,
      "rowLimit": 10000
     },
     "inputWidgets": {},
     "nuid": "2afc2d37-1877-4aa7-a300-c3fd44ee12e7",
     "showTitle": false,
     "tableResultSettingsMap": {},
     "title": ""
    }
   },
   "outputs": [],
   "source": [
    "df_stolen_vehicles.printSchema()\n",
    "null_count_stolenvehicle.show()"
   ]
  },
  {
   "cell_type": "code",
   "execution_count": 0,
   "metadata": {
    "application/vnd.databricks.v1+cell": {
     "cellMetadata": {
      "byteLimit": 2048000,
      "rowLimit": 10000
     },
     "inputWidgets": {},
     "nuid": "d1589056-d5a6-4a4f-b4e7-e19c74dc11ce",
     "showTitle": false,
     "tableResultSettingsMap": {},
     "title": ""
    }
   },
   "outputs": [],
   "source": [
    "df_stolen_vehicles = df_stolen_vehicles.fillna({\n",
    "    \"vehicle_type\":\"No Data\",\n",
    "    \"make_id\":0,\n",
    "    \"model_year\":0,\n",
    "    \"vehicle_desc\":\"No Data\",\n",
    "    \"color\":\"No Data\"\n",
    "})"
   ]
  },
  {
   "cell_type": "code",
   "execution_count": 0,
   "metadata": {
    "application/vnd.databricks.v1+cell": {
     "cellMetadata": {
      "byteLimit": 2048000,
      "rowLimit": 10000
     },
     "inputWidgets": {},
     "nuid": "78b767c8-702f-4772-b63b-dfac26911bf2",
     "showTitle": false,
     "tableResultSettingsMap": {},
     "title": ""
    }
   },
   "outputs": [],
   "source": [
    "null_count_stolenvehicle = df_stolen_vehicles.select([sum(when(col(column).isNull(), 1).otherwise(0)).alias(column) for column in df_stolen_vehicles.columns]) \n",
    "\n",
    "null_count_stolenvehicle.show()"
   ]
  },
  {
   "cell_type": "code",
   "execution_count": 0,
   "metadata": {
    "application/vnd.databricks.v1+cell": {
     "cellMetadata": {
      "byteLimit": 2048000,
      "rowLimit": 10000
     },
     "inputWidgets": {},
     "nuid": "e1c1fc31-7284-490c-aa9d-387d0d5f4418",
     "showTitle": false,
     "tableResultSettingsMap": {},
     "title": ""
    }
   },
   "outputs": [],
   "source": [
    "df_location.write.mode(\"overwrite\").format(\"csv\").save(bronzepath+\"/gold/locations.csv\")\n",
    "df_make_details.write.mode(\"overwrite\").format(\"csv\").save(bronzepath+\"/gold/makeDetails.csv\") \n",
    "df_stolen_vehicles.write.mode(\"overwrite\").format(\"csv\").save(bronzepath+\"/gold/stolenVehicles.csv\")\n",
    "df_stolen_vehicles_db_data_dictionary.write.mode(\"overwrite\").format(\"csv\").save(bronzepath+\"/gold/stolenVehiclesDictionary.csv\")"
   ]
  },
  {
   "cell_type": "code",
   "execution_count": 0,
   "metadata": {
    "application/vnd.databricks.v1+cell": {
     "cellMetadata": {
      "byteLimit": 2048000,
      "rowLimit": 10000
     },
     "inputWidgets": {},
     "nuid": "dfa926f1-ec18-4d44-8b9f-2b262aa23179",
     "showTitle": false,
     "tableResultSettingsMap": {},
     "title": ""
    }
   },
   "outputs": [],
   "source": [
    "df_location.createOrReplaceTempView(\"location\")\n",
    "df_make_details.createOrReplaceTempView(\"makeDetails\")  \n",
    "df_stolen_vehicles.createOrReplaceTempView(\"stolenVehicles\")\n",
    "df_stolen_vehicles_db_data_dictionary.createOrReplaceTempView(\"stolenVehiclesDictionary\")"
   ]
  },
  {
   "cell_type": "code",
   "execution_count": 0,
   "metadata": {
    "application/vnd.databricks.v1+cell": {
     "cellMetadata": {
      "byteLimit": 2048000,
      "implicitDf": true,
      "rowLimit": 10000
     },
     "inputWidgets": {},
     "nuid": "c5a3e259-91c8-4297-b3e6-90d8ac9fbfc2",
     "showTitle": false,
     "tableResultSettingsMap": {},
     "title": ""
    }
   },
   "outputs": [],
   "source": [
    "%sql\n",
    "select * from location"
   ]
  },
  {
   "cell_type": "code",
   "execution_count": 0,
   "metadata": {
    "application/vnd.databricks.v1+cell": {
     "cellMetadata": {
      "byteLimit": 2048000,
      "implicitDf": true,
      "rowLimit": 10000
     },
     "inputWidgets": {},
     "nuid": "fe51db6c-9f94-463d-aa0d-f065ca4cec26",
     "showTitle": false,
     "tableResultSettingsMap": {},
     "title": ""
    }
   },
   "outputs": [],
   "source": [
    "%sql\n",
    "select * from stolenVehicles"
   ]
  },
  {
   "cell_type": "code",
   "execution_count": 0,
   "metadata": {
    "application/vnd.databricks.v1+cell": {
     "cellMetadata": {
      "byteLimit": 2048000,
      "implicitDf": true,
      "rowLimit": 10000
     },
     "inputWidgets": {},
     "nuid": "dcfae90b-2ca3-49d1-99b9-eef3335a5b3e",
     "showTitle": false,
     "tableResultSettingsMap": {
      "0": {
       "dataGridStateBlob": "{\"version\":1,\"tableState\":{\"columnPinning\":{\"left\":[\"#row_number#\"],\"right\":[]},\"columnSizing\":{},\"columnVisibility\":{}},\"settings\":{\"columns\":{}},\"syncTimestamp\":1755073074283}",
       "filterBlob": null,
       "queryPlanFiltersBlob": null,
       "tableResultIndex": 0
      }
     },
     "title": ""
    }
   },
   "outputs": [],
   "source": [
    "%sql\n",
    "select sv.model_year, l.region,l.location_id , count(vvehicle_id) num_of_vehicles_stolen  from stolenVehicles  sv inner join location l on sv.location_id = l.location_id\n",
    " group by sv.model_year, l.region ,l.location_id order by num_of_vehicles_stolen desc"
   ]
  },
  {
   "cell_type": "code",
   "execution_count": 0,
   "metadata": {
    "application/vnd.databricks.v1+cell": {
     "cellMetadata": {},
     "inputWidgets": {},
     "nuid": "ba28ebeb-77f9-4e89-bf6e-cc77da1a4174",
     "showTitle": false,
     "tableResultSettingsMap": {},
     "title": ""
    }
   },
   "outputs": [],
   "source": []
  }
 ],
 "metadata": {
  "application/vnd.databricks.v1+notebook": {
   "computePreferences": {
    "hardware": {
     "accelerator": null,
     "gpuPoolId": null,
     "memory": null
    }
   },
   "dashboards": [],
   "environmentMetadata": {
    "base_environment": "",
    "environment_version": "2"
   },
   "inputWidgetPreferences": null,
   "language": "python",
   "notebookMetadata": {
    "mostRecentlyExecutedCommandWithImplicitDF": {
     "commandId": 7122477360856106,
     "dataframes": [
      "_sqldf"
     ]
    },
    "pythonIndentUnit": 4
   },
   "notebookName": "vehicletheft",
   "widgets": {}
  },
  "language_info": {
   "name": "python"
  }
 },
 "nbformat": 4,
 "nbformat_minor": 0
}
